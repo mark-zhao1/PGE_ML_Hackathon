{
 "cells": [
  {
   "cell_type": "code",
   "execution_count": 121,
   "metadata": {},
   "outputs": [
    {
     "name": "stdout",
     "output_type": "stream",
     "text": [
      "Requirement already satisfied: geostatspy in /opt/anaconda3/lib/python3.7/site-packages (0.0.19)\n",
      "Note: you may need to restart the kernel to use updated packages.\n"
     ]
    }
   ],
   "source": [
    "pip install geostatspy"
   ]
  },
  {
   "cell_type": "code",
   "execution_count": 122,
   "metadata": {},
   "outputs": [
    {
     "name": "stdout",
     "output_type": "stream",
     "text": [
      "Requirement already satisfied: pyvista in /opt/anaconda3/lib/python3.7/site-packages (0.29.0)\n",
      "Requirement already satisfied: numpy in /opt/anaconda3/lib/python3.7/site-packages (from pyvista) (1.18.1)\n",
      "Requirement already satisfied: scooby>=0.5.1 in /opt/anaconda3/lib/python3.7/site-packages (from pyvista) (0.5.6)\n",
      "Requirement already satisfied: imageio in /opt/anaconda3/lib/python3.7/site-packages (from pyvista) (2.6.1)\n",
      "Requirement already satisfied: transforms3d==0.3.1 in /opt/anaconda3/lib/python3.7/site-packages (from pyvista) (0.3.1)\n",
      "Requirement already satisfied: pillow in /opt/anaconda3/lib/python3.7/site-packages (from pyvista) (8.2.0)\n",
      "Requirement already satisfied: appdirs in /opt/anaconda3/lib/python3.7/site-packages (from pyvista) (1.4.4)\n",
      "Requirement already satisfied: meshio<5.0,>=4.0.3 in /opt/anaconda3/lib/python3.7/site-packages (from pyvista) (4.3.12)\n",
      "Requirement already satisfied: vtk in /opt/anaconda3/lib/python3.7/site-packages (from pyvista) (9.0.1)\n",
      "Requirement already satisfied: importlib-metadata; python_version < \"3.8\" in /opt/anaconda3/lib/python3.7/site-packages (from meshio<5.0,>=4.0.3->pyvista) (1.5.0)\n",
      "Requirement already satisfied: zipp>=0.5 in /opt/anaconda3/lib/python3.7/site-packages (from importlib-metadata; python_version < \"3.8\"->meshio<5.0,>=4.0.3->pyvista) (2.2.0)\n",
      "Note: you may need to restart the kernel to use updated packages.\n"
     ]
    }
   ],
   "source": [
    "pip install pyvista"
   ]
  },
  {
   "cell_type": "code",
   "execution_count": 123,
   "metadata": {},
   "outputs": [],
   "source": [
    "import os                                                   # to set current working directory \n",
    "import numpy as np                                          # ndarrays for gridded data\n",
    "import pandas as pd                                         # DataFrames for tabular data\n",
    "import matplotlib.pyplot as plt                             # for visualizing data\n",
    "import geostatspy.GSLIB as GSLIB          # GSLIB utilies, visualization and wrapper\n",
    "import geostatspy.geostats as geostats    # GSLIB methods convert to Python    "
   ]
  },
  {
   "cell_type": "code",
   "execution_count": 113,
   "metadata": {},
   "outputs": [],
   "source": [
    "df = pd.read_csv(\"/Users/mohamedabdelfatah/Downloads/darcy-analytics-main/wellbore_data_preproduction_well.csv\")  # read a .csv file in as a DataFrame                     # read a .csv file in as a DataFrame"
   ]
  },
  {
   "cell_type": "code",
   "execution_count": 124,
   "metadata": {},
   "outputs": [
    {
     "data": {
      "text/html": [
       "<div>\n",
       "<style scoped>\n",
       "    .dataframe tbody tr th:only-of-type {\n",
       "        vertical-align: middle;\n",
       "    }\n",
       "\n",
       "    .dataframe tbody tr th {\n",
       "        vertical-align: top;\n",
       "    }\n",
       "\n",
       "    .dataframe thead th {\n",
       "        text-align: right;\n",
       "    }\n",
       "</style>\n",
       "<table border=\"1\" class=\"dataframe\">\n",
       "  <thead>\n",
       "    <tr style=\"text-align: right;\">\n",
       "      <th></th>\n",
       "      <th>Well_ID</th>\n",
       "      <th>X, m</th>\n",
       "      <th>Y, m</th>\n",
       "      <th>Depth, m</th>\n",
       "      <th>Porosity, fraction</th>\n",
       "      <th>Permeability, mD</th>\n",
       "      <th>Acoustic Impedance, kg*s/m^2</th>\n",
       "      <th>Rock facies</th>\n",
       "      <th>Density, g/cm3</th>\n",
       "      <th>Compressible velocity, m/s</th>\n",
       "      <th>Youngs modulus, GPa</th>\n",
       "      <th>Shear velocity, m/s</th>\n",
       "      <th>Shear modulus, GPa</th>\n",
       "    </tr>\n",
       "  </thead>\n",
       "  <tbody>\n",
       "    <tr>\n",
       "      <th>0</th>\n",
       "      <td>Well_no_74</td>\n",
       "      <td>7925</td>\n",
       "      <td>5525</td>\n",
       "      <td>3050.51</td>\n",
       "      <td>NaN</td>\n",
       "      <td>NaN</td>\n",
       "      <td>7842692.077</td>\n",
       "      <td>Sandy shale</td>\n",
       "      <td>NaN</td>\n",
       "      <td>3387.576377</td>\n",
       "      <td>NaN</td>\n",
       "      <td>1646.603549</td>\n",
       "      <td>6.229941</td>\n",
       "    </tr>\n",
       "    <tr>\n",
       "      <th>1</th>\n",
       "      <td>Well_no_74</td>\n",
       "      <td>7925</td>\n",
       "      <td>5525</td>\n",
       "      <td>3051.01</td>\n",
       "      <td>0.09096</td>\n",
       "      <td>NaN</td>\n",
       "      <td>7807355.262</td>\n",
       "      <td>Shaly sandstone</td>\n",
       "      <td>1.872982</td>\n",
       "      <td>NaN</td>\n",
       "      <td>NaN</td>\n",
       "      <td>1465.051728</td>\n",
       "      <td>4.930174</td>\n",
       "    </tr>\n",
       "    <tr>\n",
       "      <th>2</th>\n",
       "      <td>Well_no_74</td>\n",
       "      <td>7925</td>\n",
       "      <td>5525</td>\n",
       "      <td>3051.51</td>\n",
       "      <td>0.05878</td>\n",
       "      <td>NaN</td>\n",
       "      <td>7864859.402</td>\n",
       "      <td>Sandy shale</td>\n",
       "      <td>3.187123</td>\n",
       "      <td>2660.306664</td>\n",
       "      <td>18.875428</td>\n",
       "      <td>1570.481116</td>\n",
       "      <td>7.202703</td>\n",
       "    </tr>\n",
       "    <tr>\n",
       "      <th>3</th>\n",
       "      <td>Well_no_74</td>\n",
       "      <td>7925</td>\n",
       "      <td>5525</td>\n",
       "      <td>3052.01</td>\n",
       "      <td>NaN</td>\n",
       "      <td>NaN</td>\n",
       "      <td>7309508.797</td>\n",
       "      <td>Shaly sandstone</td>\n",
       "      <td>2.058578</td>\n",
       "      <td>3285.615950</td>\n",
       "      <td>26.992396</td>\n",
       "      <td>1652.096739</td>\n",
       "      <td>6.486131</td>\n",
       "    </tr>\n",
       "    <tr>\n",
       "      <th>4</th>\n",
       "      <td>Well_no_74</td>\n",
       "      <td>7925</td>\n",
       "      <td>5525</td>\n",
       "      <td>3052.51</td>\n",
       "      <td>0.12285</td>\n",
       "      <td>NaN</td>\n",
       "      <td>7328552.658</td>\n",
       "      <td>Shaly sandstone</td>\n",
       "      <td>1.678339</td>\n",
       "      <td>4432.429019</td>\n",
       "      <td>35.261378</td>\n",
       "      <td>1697.320552</td>\n",
       "      <td>3.802001</td>\n",
       "    </tr>\n",
       "  </tbody>\n",
       "</table>\n",
       "</div>"
      ],
      "text/plain": [
       "      Well_ID  X, m  Y, m  Depth, m  Porosity, fraction  Permeability, mD  \\\n",
       "0  Well_no_74  7925  5525   3050.51                 NaN               NaN   \n",
       "1  Well_no_74  7925  5525   3051.01             0.09096               NaN   \n",
       "2  Well_no_74  7925  5525   3051.51             0.05878               NaN   \n",
       "3  Well_no_74  7925  5525   3052.01                 NaN               NaN   \n",
       "4  Well_no_74  7925  5525   3052.51             0.12285               NaN   \n",
       "\n",
       "   Acoustic Impedance, kg*s/m^2      Rock facies  Density, g/cm3  \\\n",
       "0                   7842692.077      Sandy shale             NaN   \n",
       "1                   7807355.262  Shaly sandstone        1.872982   \n",
       "2                   7864859.402      Sandy shale        3.187123   \n",
       "3                   7309508.797  Shaly sandstone        2.058578   \n",
       "4                   7328552.658  Shaly sandstone        1.678339   \n",
       "\n",
       "   Compressible velocity, m/s  Youngs modulus, GPa  Shear velocity, m/s  \\\n",
       "0                 3387.576377                  NaN          1646.603549   \n",
       "1                         NaN                  NaN          1465.051728   \n",
       "2                 2660.306664            18.875428          1570.481116   \n",
       "3                 3285.615950            26.992396          1652.096739   \n",
       "4                 4432.429019            35.261378          1697.320552   \n",
       "\n",
       "   Shear modulus, GPa  \n",
       "0            6.229941  \n",
       "1            4.930174  \n",
       "2            7.202703  \n",
       "3            6.486131  \n",
       "4            3.802001  "
      ]
     },
     "execution_count": 124,
     "metadata": {},
     "output_type": "execute_result"
    }
   ],
   "source": [
    "df.head()                                                   # preview the first 5 rows"
   ]
  },
  {
   "cell_type": "code",
   "execution_count": 125,
   "metadata": {},
   "outputs": [
    {
     "data": {
      "text/plain": [
       "(200, 13)"
      ]
     },
     "execution_count": 125,
     "metadata": {},
     "output_type": "execute_result"
    }
   ],
   "source": [
    "df.shape                                                   # data shape"
   ]
  },
  {
   "cell_type": "code",
   "execution_count": 126,
   "metadata": {},
   "outputs": [
    {
     "data": {
      "text/html": [
       "<div>\n",
       "<style scoped>\n",
       "    .dataframe tbody tr th:only-of-type {\n",
       "        vertical-align: middle;\n",
       "    }\n",
       "\n",
       "    .dataframe tbody tr th {\n",
       "        vertical-align: top;\n",
       "    }\n",
       "\n",
       "    .dataframe thead th {\n",
       "        text-align: right;\n",
       "    }\n",
       "</style>\n",
       "<table border=\"1\" class=\"dataframe\">\n",
       "  <thead>\n",
       "    <tr style=\"text-align: right;\">\n",
       "      <th></th>\n",
       "      <th>X, m</th>\n",
       "      <th>Y, m</th>\n",
       "      <th>Depth, m</th>\n",
       "      <th>Porosity, fraction</th>\n",
       "      <th>Permeability, mD</th>\n",
       "      <th>Acoustic Impedance, kg*s/m^2</th>\n",
       "      <th>Density, g/cm3</th>\n",
       "      <th>Compressible velocity, m/s</th>\n",
       "      <th>Youngs modulus, GPa</th>\n",
       "      <th>Shear velocity, m/s</th>\n",
       "      <th>Shear modulus, GPa</th>\n",
       "    </tr>\n",
       "  </thead>\n",
       "  <tbody>\n",
       "    <tr>\n",
       "      <th>count</th>\n",
       "      <td>200.00000</td>\n",
       "      <td>200.000000</td>\n",
       "      <td>200.000000</td>\n",
       "      <td>176.000000</td>\n",
       "      <td>48.000000</td>\n",
       "      <td>1.870000e+02</td>\n",
       "      <td>163.000000</td>\n",
       "      <td>168.000000</td>\n",
       "      <td>167.000000</td>\n",
       "      <td>174.000000</td>\n",
       "      <td>176.000000</td>\n",
       "    </tr>\n",
       "    <tr>\n",
       "      <th>mean</th>\n",
       "      <td>7385.00000</td>\n",
       "      <td>4505.000000</td>\n",
       "      <td>3053.751000</td>\n",
       "      <td>0.128725</td>\n",
       "      <td>125.222460</td>\n",
       "      <td>7.310066e+06</td>\n",
       "      <td>2.033922</td>\n",
       "      <td>3687.544636</td>\n",
       "      <td>27.473558</td>\n",
       "      <td>1668.404041</td>\n",
       "      <td>5.809301</td>\n",
       "    </tr>\n",
       "    <tr>\n",
       "      <th>std</th>\n",
       "      <td>845.26467</td>\n",
       "      <td>489.179397</td>\n",
       "      <td>3.194208</td>\n",
       "      <td>0.038333</td>\n",
       "      <td>83.653397</td>\n",
       "      <td>3.268901e+05</td>\n",
       "      <td>0.386902</td>\n",
       "      <td>701.744626</td>\n",
       "      <td>5.690831</td>\n",
       "      <td>90.723222</td>\n",
       "      <td>1.373386</td>\n",
       "    </tr>\n",
       "    <tr>\n",
       "      <th>min</th>\n",
       "      <td>6025.00000</td>\n",
       "      <td>3725.000000</td>\n",
       "      <td>3046.740000</td>\n",
       "      <td>0.048450</td>\n",
       "      <td>12.856300</td>\n",
       "      <td>6.617929e+06</td>\n",
       "      <td>1.482503</td>\n",
       "      <td>2227.976873</td>\n",
       "      <td>16.535378</td>\n",
       "      <td>1425.170622</td>\n",
       "      <td>2.463956</td>\n",
       "    </tr>\n",
       "    <tr>\n",
       "      <th>25%</th>\n",
       "      <td>6825.00000</td>\n",
       "      <td>4125.000000</td>\n",
       "      <td>3051.255000</td>\n",
       "      <td>0.112465</td>\n",
       "      <td>59.368014</td>\n",
       "      <td>7.077094e+06</td>\n",
       "      <td>1.743189</td>\n",
       "      <td>3147.725651</td>\n",
       "      <td>23.215547</td>\n",
       "      <td>1602.559296</td>\n",
       "      <td>4.908638</td>\n",
       "    </tr>\n",
       "    <tr>\n",
       "      <th>50%</th>\n",
       "      <td>7475.00000</td>\n",
       "      <td>4450.000000</td>\n",
       "      <td>3053.750000</td>\n",
       "      <td>0.139425</td>\n",
       "      <td>109.536687</td>\n",
       "      <td>7.234540e+06</td>\n",
       "      <td>2.000809</td>\n",
       "      <td>3596.591856</td>\n",
       "      <td>26.610583</td>\n",
       "      <td>1666.323874</td>\n",
       "      <td>5.722072</td>\n",
       "    </tr>\n",
       "    <tr>\n",
       "      <th>75%</th>\n",
       "      <td>7925.00000</td>\n",
       "      <td>4825.000000</td>\n",
       "      <td>3056.245000</td>\n",
       "      <td>0.156935</td>\n",
       "      <td>168.879200</td>\n",
       "      <td>7.498666e+06</td>\n",
       "      <td>2.243124</td>\n",
       "      <td>4220.013876</td>\n",
       "      <td>31.188682</td>\n",
       "      <td>1731.496253</td>\n",
       "      <td>6.674499</td>\n",
       "    </tr>\n",
       "    <tr>\n",
       "      <th>max</th>\n",
       "      <td>9025.00000</td>\n",
       "      <td>5525.000000</td>\n",
       "      <td>3061.170000</td>\n",
       "      <td>0.183970</td>\n",
       "      <td>322.668020</td>\n",
       "      <td>8.108090e+06</td>\n",
       "      <td>3.508268</td>\n",
       "      <td>5320.215562</td>\n",
       "      <td>43.904056</td>\n",
       "      <td>1909.246524</td>\n",
       "      <td>10.338148</td>\n",
       "    </tr>\n",
       "  </tbody>\n",
       "</table>\n",
       "</div>"
      ],
      "text/plain": [
       "             X, m         Y, m     Depth, m  Porosity, fraction  \\\n",
       "count   200.00000   200.000000   200.000000          176.000000   \n",
       "mean   7385.00000  4505.000000  3053.751000            0.128725   \n",
       "std     845.26467   489.179397     3.194208            0.038333   \n",
       "min    6025.00000  3725.000000  3046.740000            0.048450   \n",
       "25%    6825.00000  4125.000000  3051.255000            0.112465   \n",
       "50%    7475.00000  4450.000000  3053.750000            0.139425   \n",
       "75%    7925.00000  4825.000000  3056.245000            0.156935   \n",
       "max    9025.00000  5525.000000  3061.170000            0.183970   \n",
       "\n",
       "       Permeability, mD  Acoustic Impedance, kg*s/m^2  Density, g/cm3  \\\n",
       "count         48.000000                  1.870000e+02      163.000000   \n",
       "mean         125.222460                  7.310066e+06        2.033922   \n",
       "std           83.653397                  3.268901e+05        0.386902   \n",
       "min           12.856300                  6.617929e+06        1.482503   \n",
       "25%           59.368014                  7.077094e+06        1.743189   \n",
       "50%          109.536687                  7.234540e+06        2.000809   \n",
       "75%          168.879200                  7.498666e+06        2.243124   \n",
       "max          322.668020                  8.108090e+06        3.508268   \n",
       "\n",
       "       Compressible velocity, m/s  Youngs modulus, GPa  Shear velocity, m/s  \\\n",
       "count                  168.000000           167.000000           174.000000   \n",
       "mean                  3687.544636            27.473558          1668.404041   \n",
       "std                    701.744626             5.690831            90.723222   \n",
       "min                   2227.976873            16.535378          1425.170622   \n",
       "25%                   3147.725651            23.215547          1602.559296   \n",
       "50%                   3596.591856            26.610583          1666.323874   \n",
       "75%                   4220.013876            31.188682          1731.496253   \n",
       "max                   5320.215562            43.904056          1909.246524   \n",
       "\n",
       "       Shear modulus, GPa  \n",
       "count          176.000000  \n",
       "mean             5.809301  \n",
       "std              1.373386  \n",
       "min              2.463956  \n",
       "25%              4.908638  \n",
       "50%              5.722072  \n",
       "75%              6.674499  \n",
       "max             10.338148  "
      ]
     },
     "execution_count": 126,
     "metadata": {},
     "output_type": "execute_result"
    }
   ],
   "source": [
    " df.describe()                                             # for descriptive statistics of the data"
   ]
  },
  {
   "cell_type": "code",
   "execution_count": 127,
   "metadata": {},
   "outputs": [],
   "source": [
    "df2 = df.copy()"
   ]
  },
  {
   "cell_type": "code",
   "execution_count": 128,
   "metadata": {},
   "outputs": [
    {
     "data": {
      "text/plain": [
       "(200, 13)"
      ]
     },
     "execution_count": 128,
     "metadata": {},
     "output_type": "execute_result"
    }
   ],
   "source": [
    "df2.shape"
   ]
  },
  {
   "cell_type": "code",
   "execution_count": 129,
   "metadata": {},
   "outputs": [],
   "source": [
    "df2.columns = ['Well_ID', 'X', 'Y', 'Z', 'Porosity', 'Permeability', 'Acoustic_Impedance', 'Rock_facies', 'Density', 'Compressible_velocity', 'Youngs_modulus', 'Shear_velocity', 'Shear_modulus']"
   ]
  },
  {
   "cell_type": "code",
   "execution_count": 133,
   "metadata": {},
   "outputs": [
    {
     "data": {
      "text/html": [
       "<div>\n",
       "<style scoped>\n",
       "    .dataframe tbody tr th:only-of-type {\n",
       "        vertical-align: middle;\n",
       "    }\n",
       "\n",
       "    .dataframe tbody tr th {\n",
       "        vertical-align: top;\n",
       "    }\n",
       "\n",
       "    .dataframe thead th {\n",
       "        text-align: right;\n",
       "    }\n",
       "</style>\n",
       "<table border=\"1\" class=\"dataframe\">\n",
       "  <thead>\n",
       "    <tr style=\"text-align: right;\">\n",
       "      <th></th>\n",
       "      <th>Well_ID</th>\n",
       "      <th>X</th>\n",
       "      <th>Y</th>\n",
       "      <th>Z</th>\n",
       "      <th>Porosity</th>\n",
       "      <th>Permeability</th>\n",
       "      <th>Acoustic_Impedance</th>\n",
       "      <th>Rock_facies</th>\n",
       "      <th>Density</th>\n",
       "      <th>Compressible_velocity</th>\n",
       "      <th>Youngs_modulus</th>\n",
       "      <th>Shear_velocity</th>\n",
       "      <th>Shear_modulus</th>\n",
       "    </tr>\n",
       "  </thead>\n",
       "  <tbody>\n",
       "    <tr>\n",
       "      <th>0</th>\n",
       "      <td>Well_no_74</td>\n",
       "      <td>7925</td>\n",
       "      <td>5525</td>\n",
       "      <td>3050.51</td>\n",
       "      <td>NaN</td>\n",
       "      <td>NaN</td>\n",
       "      <td>7842692.077</td>\n",
       "      <td>Sandy shale</td>\n",
       "      <td>NaN</td>\n",
       "      <td>3387.576377</td>\n",
       "      <td>NaN</td>\n",
       "      <td>1646.603549</td>\n",
       "      <td>6.229941</td>\n",
       "    </tr>\n",
       "    <tr>\n",
       "      <th>1</th>\n",
       "      <td>Well_no_74</td>\n",
       "      <td>7925</td>\n",
       "      <td>5525</td>\n",
       "      <td>3051.01</td>\n",
       "      <td>0.09096</td>\n",
       "      <td>NaN</td>\n",
       "      <td>7807355.262</td>\n",
       "      <td>Shaly sandstone</td>\n",
       "      <td>1.872982</td>\n",
       "      <td>NaN</td>\n",
       "      <td>NaN</td>\n",
       "      <td>1465.051728</td>\n",
       "      <td>4.930174</td>\n",
       "    </tr>\n",
       "    <tr>\n",
       "      <th>2</th>\n",
       "      <td>Well_no_74</td>\n",
       "      <td>7925</td>\n",
       "      <td>5525</td>\n",
       "      <td>3051.51</td>\n",
       "      <td>0.05878</td>\n",
       "      <td>NaN</td>\n",
       "      <td>7864859.402</td>\n",
       "      <td>Sandy shale</td>\n",
       "      <td>3.187123</td>\n",
       "      <td>2660.306664</td>\n",
       "      <td>18.875428</td>\n",
       "      <td>1570.481116</td>\n",
       "      <td>7.202703</td>\n",
       "    </tr>\n",
       "    <tr>\n",
       "      <th>3</th>\n",
       "      <td>Well_no_74</td>\n",
       "      <td>7925</td>\n",
       "      <td>5525</td>\n",
       "      <td>3052.01</td>\n",
       "      <td>NaN</td>\n",
       "      <td>NaN</td>\n",
       "      <td>7309508.797</td>\n",
       "      <td>Shaly sandstone</td>\n",
       "      <td>2.058578</td>\n",
       "      <td>3285.615950</td>\n",
       "      <td>26.992396</td>\n",
       "      <td>1652.096739</td>\n",
       "      <td>6.486131</td>\n",
       "    </tr>\n",
       "    <tr>\n",
       "      <th>4</th>\n",
       "      <td>Well_no_74</td>\n",
       "      <td>7925</td>\n",
       "      <td>5525</td>\n",
       "      <td>3052.51</td>\n",
       "      <td>0.12285</td>\n",
       "      <td>NaN</td>\n",
       "      <td>7328552.658</td>\n",
       "      <td>Shaly sandstone</td>\n",
       "      <td>1.678339</td>\n",
       "      <td>4432.429019</td>\n",
       "      <td>35.261378</td>\n",
       "      <td>1697.320552</td>\n",
       "      <td>3.802001</td>\n",
       "    </tr>\n",
       "  </tbody>\n",
       "</table>\n",
       "</div>"
      ],
      "text/plain": [
       "      Well_ID     X     Y        Z  Porosity  Permeability  \\\n",
       "0  Well_no_74  7925  5525  3050.51       NaN           NaN   \n",
       "1  Well_no_74  7925  5525  3051.01   0.09096           NaN   \n",
       "2  Well_no_74  7925  5525  3051.51   0.05878           NaN   \n",
       "3  Well_no_74  7925  5525  3052.01       NaN           NaN   \n",
       "4  Well_no_74  7925  5525  3052.51   0.12285           NaN   \n",
       "\n",
       "   Acoustic_Impedance      Rock_facies   Density  Compressible_velocity  \\\n",
       "0         7842692.077      Sandy shale       NaN            3387.576377   \n",
       "1         7807355.262  Shaly sandstone  1.872982                    NaN   \n",
       "2         7864859.402      Sandy shale  3.187123            2660.306664   \n",
       "3         7309508.797  Shaly sandstone  2.058578            3285.615950   \n",
       "4         7328552.658  Shaly sandstone  1.678339            4432.429019   \n",
       "\n",
       "   Youngs_modulus  Shear_velocity  Shear_modulus  \n",
       "0             NaN     1646.603549       6.229941  \n",
       "1             NaN     1465.051728       4.930174  \n",
       "2       18.875428     1570.481116       7.202703  \n",
       "3       26.992396     1652.096739       6.486131  \n",
       "4       35.261378     1697.320552       3.802001  "
      ]
     },
     "execution_count": 133,
     "metadata": {},
     "output_type": "execute_result"
    }
   ],
   "source": [
    "df2.head()"
   ]
  },
  {
   "cell_type": "code",
   "execution_count": 134,
   "metadata": {},
   "outputs": [
    {
     "name": "stderr",
     "output_type": "stream",
     "text": [
      "/opt/anaconda3/lib/python3.7/site-packages/numpy/lib/histograms.py:839: RuntimeWarning: invalid value encountered in greater_equal\n",
      "  keep = (tmp_a >= first_edge)\n",
      "/opt/anaconda3/lib/python3.7/site-packages/numpy/lib/histograms.py:840: RuntimeWarning: invalid value encountered in less_equal\n",
      "  keep &= (tmp_a <= last_edge)\n"
     ]
    },
    {
     "data": {
      "image/png": "[encoded data removed]",
      "text/plain": [
       "<Figure size 432x288 with 1 Axes>"
      ]
     },
     "metadata": {
      "needs_background": "light"
     },
     "output_type": "display_data"
    }
   ],
   "source": [
    "plt.hist(df2['Porosity'],color='blue',edgecolor='black',alpha=0.2,bins=10,range = [0.10,0.30])\n",
    "plt.xlabel('Porosity (fraction)'); plt.ylabel('Frequency')  # add x and y axes labels\n",
    "plt.title('Porosity Distribution')                          # add a title to the plot\n",
    "plt.show()                                                  # show the plot"
   ]
  },
  {
   "cell_type": "code",
   "execution_count": 136,
   "metadata": {},
   "outputs": [
    {
     "data": {
      "text/plain": [
       "0         NaN\n",
       "1     0.09096\n",
       "2     0.05878\n",
       "3         NaN\n",
       "4     0.12285\n",
       "5     0.12562\n",
       "6     0.12519\n",
       "7     0.12729\n",
       "8     0.13436\n",
       "9     0.06006\n",
       "10    0.06680\n",
       "11    0.13114\n",
       "12    0.13479\n",
       "Name: Porosity, dtype: float64"
      ]
     },
     "execution_count": 136,
     "metadata": {},
     "output_type": "execute_result"
    }
   ],
   "source": [
    "df2['Porosity'][:13]                                         # get the first 13 samples of porosity"
   ]
  },
  {
   "cell_type": "code",
   "execution_count": 26,
   "metadata": {},
   "outputs": [
    {
     "data": {
      "image/png": "[encoded data removed]",
      "text/plain": [
       "<Figure size 432x288 with 1 Axes>"
      ]
     },
     "metadata": {
      "needs_background": "light"
     },
     "output_type": "display_data"
    }
   ],
   "source": []
  },
  {
   "cell_type": "code",
   "execution_count": 132,
   "metadata": {},
   "outputs": [
    {
     "data": {
      "text/html": [
       "<div>\n",
       "<style scoped>\n",
       "    .dataframe tbody tr th:only-of-type {\n",
       "        vertical-align: middle;\n",
       "    }\n",
       "\n",
       "    .dataframe tbody tr th {\n",
       "        vertical-align: top;\n",
       "    }\n",
       "\n",
       "    .dataframe thead th {\n",
       "        text-align: right;\n",
       "    }\n",
       "</style>\n",
       "<table border=\"1\" class=\"dataframe\">\n",
       "  <thead>\n",
       "    <tr style=\"text-align: right;\">\n",
       "      <th></th>\n",
       "      <th>Well_ID</th>\n",
       "      <th>X</th>\n",
       "      <th>Y</th>\n",
       "      <th>Z</th>\n",
       "      <th>Porosity</th>\n",
       "      <th>Permeability</th>\n",
       "      <th>Acoustic_Impedance</th>\n",
       "      <th>Rock_facies</th>\n",
       "      <th>Density</th>\n",
       "      <th>Compressible_velocity</th>\n",
       "      <th>Youngs_modulus</th>\n",
       "      <th>Shear_velocity</th>\n",
       "      <th>Shear_modulus</th>\n",
       "    </tr>\n",
       "  </thead>\n",
       "  <tbody>\n",
       "    <tr>\n",
       "      <th>0</th>\n",
       "      <td>Well_no_74</td>\n",
       "      <td>7925</td>\n",
       "      <td>5525</td>\n",
       "      <td>3050.51</td>\n",
       "      <td>NaN</td>\n",
       "      <td>NaN</td>\n",
       "      <td>7842692.077</td>\n",
       "      <td>Sandy shale</td>\n",
       "      <td>NaN</td>\n",
       "      <td>3387.576377</td>\n",
       "      <td>NaN</td>\n",
       "      <td>1646.603549</td>\n",
       "      <td>6.229941</td>\n",
       "    </tr>\n",
       "    <tr>\n",
       "      <th>1</th>\n",
       "      <td>Well_no_74</td>\n",
       "      <td>7925</td>\n",
       "      <td>5525</td>\n",
       "      <td>3051.01</td>\n",
       "      <td>0.09096</td>\n",
       "      <td>NaN</td>\n",
       "      <td>7807355.262</td>\n",
       "      <td>Shaly sandstone</td>\n",
       "      <td>1.872982</td>\n",
       "      <td>NaN</td>\n",
       "      <td>NaN</td>\n",
       "      <td>1465.051728</td>\n",
       "      <td>4.930174</td>\n",
       "    </tr>\n",
       "    <tr>\n",
       "      <th>2</th>\n",
       "      <td>Well_no_74</td>\n",
       "      <td>7925</td>\n",
       "      <td>5525</td>\n",
       "      <td>3051.51</td>\n",
       "      <td>0.05878</td>\n",
       "      <td>NaN</td>\n",
       "      <td>7864859.402</td>\n",
       "      <td>Sandy shale</td>\n",
       "      <td>3.187123</td>\n",
       "      <td>2660.306664</td>\n",
       "      <td>18.875428</td>\n",
       "      <td>1570.481116</td>\n",
       "      <td>7.202703</td>\n",
       "    </tr>\n",
       "    <tr>\n",
       "      <th>3</th>\n",
       "      <td>Well_no_74</td>\n",
       "      <td>7925</td>\n",
       "      <td>5525</td>\n",
       "      <td>3052.01</td>\n",
       "      <td>NaN</td>\n",
       "      <td>NaN</td>\n",
       "      <td>7309508.797</td>\n",
       "      <td>Shaly sandstone</td>\n",
       "      <td>2.058578</td>\n",
       "      <td>3285.615950</td>\n",
       "      <td>26.992396</td>\n",
       "      <td>1652.096739</td>\n",
       "      <td>6.486131</td>\n",
       "    </tr>\n",
       "    <tr>\n",
       "      <th>4</th>\n",
       "      <td>Well_no_74</td>\n",
       "      <td>7925</td>\n",
       "      <td>5525</td>\n",
       "      <td>3052.51</td>\n",
       "      <td>0.12285</td>\n",
       "      <td>NaN</td>\n",
       "      <td>7328552.658</td>\n",
       "      <td>Shaly sandstone</td>\n",
       "      <td>1.678339</td>\n",
       "      <td>4432.429019</td>\n",
       "      <td>35.261378</td>\n",
       "      <td>1697.320552</td>\n",
       "      <td>3.802001</td>\n",
       "    </tr>\n",
       "  </tbody>\n",
       "</table>\n",
       "</div>"
      ],
      "text/plain": [
       "      Well_ID     X     Y        Z  Porosity  Permeability  \\\n",
       "0  Well_no_74  7925  5525  3050.51       NaN           NaN   \n",
       "1  Well_no_74  7925  5525  3051.01   0.09096           NaN   \n",
       "2  Well_no_74  7925  5525  3051.51   0.05878           NaN   \n",
       "3  Well_no_74  7925  5525  3052.01       NaN           NaN   \n",
       "4  Well_no_74  7925  5525  3052.51   0.12285           NaN   \n",
       "\n",
       "   Acoustic_Impedance      Rock_facies   Density  Compressible_velocity  \\\n",
       "0         7842692.077      Sandy shale       NaN            3387.576377   \n",
       "1         7807355.262  Shaly sandstone  1.872982                    NaN   \n",
       "2         7864859.402      Sandy shale  3.187123            2660.306664   \n",
       "3         7309508.797  Shaly sandstone  2.058578            3285.615950   \n",
       "4         7328552.658  Shaly sandstone  1.678339            4432.429019   \n",
       "\n",
       "   Youngs_modulus  Shear_velocity  Shear_modulus  \n",
       "0             NaN     1646.603549       6.229941  \n",
       "1             NaN     1465.051728       4.930174  \n",
       "2       18.875428     1570.481116       7.202703  \n",
       "3       26.992396     1652.096739       6.486131  \n",
       "4       35.261378     1697.320552       3.802001  "
      ]
     },
     "execution_count": 132,
     "metadata": {},
     "output_type": "execute_result"
    }
   ],
   "source": []
  },
  {
   "cell_type": "code",
   "execution_count": 80,
   "metadata": {},
   "outputs": [
    {
     "name": "stdout",
     "output_type": "stream",
     "text": [
      "Index(['X', 'Y', 'Z'], dtype='object')\n"
     ]
    }
   ],
   "source": []
  },
  {
   "cell_type": "code",
   "execution_count": 42,
   "metadata": {},
   "outputs": [
    {
     "name": "stdout",
     "output_type": "stream",
     "text": [
      "Collecting pyvista\n",
      "  Downloading pyvista-0.29.0-py3-none-any.whl (1.2 MB)\n",
      "\u001b[K     |████████████████████████████████| 1.2 MB 9.3 MB/s eta 0:00:01\n",
      "\u001b[?25hCollecting scooby>=0.5.1\n",
      "  Downloading scooby-0.5.6-py3-none-any.whl (13 kB)\n",
      "Collecting meshio<5.0,>=4.0.3\n",
      "  Downloading meshio-4.3.12-py3-none-any.whl (154 kB)\n",
      "\u001b[K     |████████████████████████████████| 154 kB 88.1 MB/s eta 0:00:01\n",
      "\u001b[?25hRequirement already satisfied: appdirs in /opt/anaconda3/lib/python3.7/site-packages (from pyvista) (1.4.4)\n",
      "Requirement already satisfied: numpy in /opt/anaconda3/lib/python3.7/site-packages (from pyvista) (1.18.1)\n",
      "Collecting transforms3d==0.3.1\n",
      "  Downloading transforms3d-0.3.1.tar.gz (62 kB)\n",
      "\u001b[K     |████████████████████████████████| 62 kB 5.1 MB/s  eta 0:00:01\n",
      "\u001b[?25hRequirement already satisfied: imageio in /opt/anaconda3/lib/python3.7/site-packages (from pyvista) (2.6.1)\n",
      "Requirement already satisfied: pillow in /opt/anaconda3/lib/python3.7/site-packages (from pyvista) (8.2.0)\n",
      "Collecting vtk\n",
      "  Downloading vtk-9.0.1-cp37-cp37m-macosx_10_9_x86_64.whl (80.7 MB)\n",
      "\u001b[K     |████████████████████████████████| 80.7 MB 50.8 MB/s eta 0:00:01\n",
      "\u001b[?25hRequirement already satisfied: importlib-metadata; python_version < \"3.8\" in /opt/anaconda3/lib/python3.7/site-packages (from meshio<5.0,>=4.0.3->pyvista) (1.5.0)\n",
      "Requirement already satisfied: zipp>=0.5 in /opt/anaconda3/lib/python3.7/site-packages (from importlib-metadata; python_version < \"3.8\"->meshio<5.0,>=4.0.3->pyvista) (2.2.0)\n",
      "Building wheels for collected packages: transforms3d\n",
      "  Building wheel for transforms3d (setup.py) ... \u001b[?25ldone\n",
      "\u001b[?25h  Created wheel for transforms3d: filename=transforms3d-0.3.1-py3-none-any.whl size=59372 sha256=eb41478652e637c0fe9ca53b763eaaad738b3721e066a63ed68180ef57055c30\n",
      "  Stored in directory: /Users/mohamedabdelfatah/Library/Caches/pip/wheels/b5/b7/93/8985551f83720ce37548a5b543c75380bb707955a9c2c5d28c\n",
      "Successfully built transforms3d\n",
      "Installing collected packages: scooby, meshio, transforms3d, vtk, pyvista\n",
      "Successfully installed meshio-4.3.12 pyvista-0.29.0 scooby-0.5.6 transforms3d-0.3.1 vtk-9.0.1\n",
      "Note: you may need to restart the kernel to use updated packages.\n"
     ]
    }
   ],
   "source": []
  },
  {
   "cell_type": "code",
   "execution_count": 62,
   "metadata": {},
   "outputs": [
    {
     "ename": "TypeError",
     "evalue": "'Series' object is not callable",
     "output_type": "error",
     "traceback": [
      "\u001b[0;31m---------------------------------------------------------------------------\u001b[0m",
      "\u001b[0;31mTypeError\u001b[0m                                 Traceback (most recent call last)",
      "\u001b[0;32m<ipython-input-62-b0c8e52cbdf1>\u001b[0m in \u001b[0;36m<module>\u001b[0;34m\u001b[0m\n\u001b[0;32m----> 1\u001b[0;31m \u001b[0mmesh\u001b[0m \u001b[0;34m=\u001b[0m \u001b[0mdf\u001b[0m\u001b[0;34m.\u001b[0m\u001b[0mDepth\u001b[0m\u001b[0;34m(\u001b[0m\u001b[0;34m)\u001b[0m\u001b[0;34m\u001b[0m\u001b[0;34m\u001b[0m\u001b[0m\n\u001b[0m\u001b[1;32m      2\u001b[0m \u001b[0;34m\u001b[0m\u001b[0m\n\u001b[1;32m      3\u001b[0m \u001b[0;31m# Establish geometry within a pv.Plotter()\u001b[0m\u001b[0;34m\u001b[0m\u001b[0;34m\u001b[0m\u001b[0;34m\u001b[0m\u001b[0m\n\u001b[1;32m      4\u001b[0m \u001b[0mp\u001b[0m \u001b[0;34m=\u001b[0m \u001b[0mpv\u001b[0m\u001b[0;34m.\u001b[0m\u001b[0mPlotter\u001b[0m\u001b[0;34m(\u001b[0m\u001b[0;34m)\u001b[0m\u001b[0;34m\u001b[0m\u001b[0;34m\u001b[0m\u001b[0m\n\u001b[1;32m      5\u001b[0m \u001b[0mp\u001b[0m\u001b[0;34m.\u001b[0m\u001b[0madd_mesh\u001b[0m\u001b[0;34m(\u001b[0m\u001b[0mmesh\u001b[0m\u001b[0;34m,\u001b[0m \u001b[0mcolor\u001b[0m\u001b[0;34m=\u001b[0m\u001b[0;32mTrue\u001b[0m\u001b[0;34m)\u001b[0m\u001b[0;34m\u001b[0m\u001b[0;34m\u001b[0m\u001b[0m\n",
      "\u001b[0;31mTypeError\u001b[0m: 'Series' object is not callable"
     ]
    }
   ],
   "source": [
    "mesh = df.Depth()\n",
    "\n",
    "# Establish geometry within a pv.Plotter()\n",
    "p = pv.Plotter()\n",
    "p.add_mesh(mesh, color=True)\n",
    "p.show()"
   ]
  },
  {
   "cell_type": "code",
   "execution_count": 90,
   "metadata": {},
   "outputs": [
    {
     "ename": "KeyError",
     "evalue": "'Depth'",
     "output_type": "error",
     "traceback": [
      "\u001b[0;31m---------------------------------------------------------------------------\u001b[0m",
      "\u001b[0;31mKeyError\u001b[0m                                  Traceback (most recent call last)",
      "\u001b[0;32m/opt/anaconda3/lib/python3.7/site-packages/pandas/core/indexes/base.py\u001b[0m in \u001b[0;36mget_loc\u001b[0;34m(self, key, method, tolerance)\u001b[0m\n\u001b[1;32m   2645\u001b[0m             \u001b[0;32mtry\u001b[0m\u001b[0;34m:\u001b[0m\u001b[0;34m\u001b[0m\u001b[0;34m\u001b[0m\u001b[0m\n\u001b[0;32m-> 2646\u001b[0;31m                 \u001b[0;32mreturn\u001b[0m \u001b[0mself\u001b[0m\u001b[0;34m.\u001b[0m\u001b[0m_engine\u001b[0m\u001b[0;34m.\u001b[0m\u001b[0mget_loc\u001b[0m\u001b[0;34m(\u001b[0m\u001b[0mkey\u001b[0m\u001b[0;34m)\u001b[0m\u001b[0;34m\u001b[0m\u001b[0;34m\u001b[0m\u001b[0m\n\u001b[0m\u001b[1;32m   2647\u001b[0m             \u001b[0;32mexcept\u001b[0m \u001b[0mKeyError\u001b[0m\u001b[0;34m:\u001b[0m\u001b[0;34m\u001b[0m\u001b[0;34m\u001b[0m\u001b[0m\n",
      "\u001b[0;32mpandas/_libs/index.pyx\u001b[0m in \u001b[0;36mpandas._libs.index.IndexEngine.get_loc\u001b[0;34m()\u001b[0m\n",
      "\u001b[0;32mpandas/_libs/index.pyx\u001b[0m in \u001b[0;36mpandas._libs.index.IndexEngine.get_loc\u001b[0;34m()\u001b[0m\n",
      "\u001b[0;32mpandas/_libs/hashtable_class_helper.pxi\u001b[0m in \u001b[0;36mpandas._libs.hashtable.PyObjectHashTable.get_item\u001b[0;34m()\u001b[0m\n",
      "\u001b[0;32mpandas/_libs/hashtable_class_helper.pxi\u001b[0m in \u001b[0;36mpandas._libs.hashtable.PyObjectHashTable.get_item\u001b[0;34m()\u001b[0m\n",
      "\u001b[0;31mKeyError\u001b[0m: 'Depth'",
      "\nDuring handling of the above exception, another exception occurred:\n",
      "\u001b[0;31mKeyError\u001b[0m                                  Traceback (most recent call last)",
      "\u001b[0;32m<ipython-input-90-a70a60a7ec47>\u001b[0m in \u001b[0;36m<module>\u001b[0;34m\u001b[0m\n\u001b[1;32m     17\u001b[0m \u001b[0mfig\u001b[0m \u001b[0;34m=\u001b[0m \u001b[0mplt\u001b[0m\u001b[0;34m.\u001b[0m\u001b[0mfigure\u001b[0m\u001b[0;34m(\u001b[0m\u001b[0;34m)\u001b[0m\u001b[0;34m\u001b[0m\u001b[0;34m\u001b[0m\u001b[0m\n\u001b[1;32m     18\u001b[0m \u001b[0max\u001b[0m \u001b[0;34m=\u001b[0m \u001b[0mfig\u001b[0m\u001b[0;34m.\u001b[0m\u001b[0mgca\u001b[0m\u001b[0;34m(\u001b[0m\u001b[0mprojection\u001b[0m\u001b[0;34m=\u001b[0m\u001b[0;34m'3d'\u001b[0m\u001b[0;34m)\u001b[0m\u001b[0;34m\u001b[0m\u001b[0;34m\u001b[0m\u001b[0m\n\u001b[0;32m---> 19\u001b[0;31m \u001b[0max\u001b[0m\u001b[0;34m.\u001b[0m\u001b[0mplot_trisurf\u001b[0m\u001b[0;34m(\u001b[0m\u001b[0mdf\u001b[0m\u001b[0;34m[\u001b[0m\u001b[0;34m'Y'\u001b[0m\u001b[0;34m]\u001b[0m\u001b[0;34m,\u001b[0m \u001b[0mdf\u001b[0m\u001b[0;34m[\u001b[0m\u001b[0;34m'X'\u001b[0m\u001b[0;34m]\u001b[0m\u001b[0;34m,\u001b[0m \u001b[0mdf\u001b[0m\u001b[0;34m[\u001b[0m\u001b[0;34m'Depth'\u001b[0m\u001b[0;34m]\u001b[0m\u001b[0;34m,\u001b[0m \u001b[0mcmap\u001b[0m\u001b[0;34m=\u001b[0m\u001b[0mplt\u001b[0m\u001b[0;34m.\u001b[0m\u001b[0mcm\u001b[0m\u001b[0;34m.\u001b[0m\u001b[0mviridis\u001b[0m\u001b[0;34m,\u001b[0m \u001b[0mlinewidth\u001b[0m\u001b[0;34m=\u001b[0m\u001b[0;36m0.2\u001b[0m\u001b[0;34m)\u001b[0m\u001b[0;34m\u001b[0m\u001b[0;34m\u001b[0m\u001b[0m\n\u001b[0m\u001b[1;32m     20\u001b[0m \u001b[0mplt\u001b[0m\u001b[0;34m.\u001b[0m\u001b[0mshow\u001b[0m\u001b[0;34m(\u001b[0m\u001b[0;34m)\u001b[0m\u001b[0;34m\u001b[0m\u001b[0;34m\u001b[0m\u001b[0m\n\u001b[1;32m     21\u001b[0m \u001b[0;34m\u001b[0m\u001b[0m\n",
      "\u001b[0;32m/opt/anaconda3/lib/python3.7/site-packages/pandas/core/frame.py\u001b[0m in \u001b[0;36m__getitem__\u001b[0;34m(self, key)\u001b[0m\n\u001b[1;32m   2798\u001b[0m             \u001b[0;32mif\u001b[0m \u001b[0mself\u001b[0m\u001b[0;34m.\u001b[0m\u001b[0mcolumns\u001b[0m\u001b[0;34m.\u001b[0m\u001b[0mnlevels\u001b[0m \u001b[0;34m>\u001b[0m \u001b[0;36m1\u001b[0m\u001b[0;34m:\u001b[0m\u001b[0;34m\u001b[0m\u001b[0;34m\u001b[0m\u001b[0m\n\u001b[1;32m   2799\u001b[0m                 \u001b[0;32mreturn\u001b[0m \u001b[0mself\u001b[0m\u001b[0;34m.\u001b[0m\u001b[0m_getitem_multilevel\u001b[0m\u001b[0;34m(\u001b[0m\u001b[0mkey\u001b[0m\u001b[0;34m)\u001b[0m\u001b[0;34m\u001b[0m\u001b[0;34m\u001b[0m\u001b[0m\n\u001b[0;32m-> 2800\u001b[0;31m             \u001b[0mindexer\u001b[0m \u001b[0;34m=\u001b[0m \u001b[0mself\u001b[0m\u001b[0;34m.\u001b[0m\u001b[0mcolumns\u001b[0m\u001b[0;34m.\u001b[0m\u001b[0mget_loc\u001b[0m\u001b[0;34m(\u001b[0m\u001b[0mkey\u001b[0m\u001b[0;34m)\u001b[0m\u001b[0;34m\u001b[0m\u001b[0;34m\u001b[0m\u001b[0m\n\u001b[0m\u001b[1;32m   2801\u001b[0m             \u001b[0;32mif\u001b[0m \u001b[0mis_integer\u001b[0m\u001b[0;34m(\u001b[0m\u001b[0mindexer\u001b[0m\u001b[0;34m)\u001b[0m\u001b[0;34m:\u001b[0m\u001b[0;34m\u001b[0m\u001b[0;34m\u001b[0m\u001b[0m\n\u001b[1;32m   2802\u001b[0m                 \u001b[0mindexer\u001b[0m \u001b[0;34m=\u001b[0m \u001b[0;34m[\u001b[0m\u001b[0mindexer\u001b[0m\u001b[0;34m]\u001b[0m\u001b[0;34m\u001b[0m\u001b[0;34m\u001b[0m\u001b[0m\n",
      "\u001b[0;32m/opt/anaconda3/lib/python3.7/site-packages/pandas/core/indexes/base.py\u001b[0m in \u001b[0;36mget_loc\u001b[0;34m(self, key, method, tolerance)\u001b[0m\n\u001b[1;32m   2646\u001b[0m                 \u001b[0;32mreturn\u001b[0m \u001b[0mself\u001b[0m\u001b[0;34m.\u001b[0m\u001b[0m_engine\u001b[0m\u001b[0;34m.\u001b[0m\u001b[0mget_loc\u001b[0m\u001b[0;34m(\u001b[0m\u001b[0mkey\u001b[0m\u001b[0;34m)\u001b[0m\u001b[0;34m\u001b[0m\u001b[0;34m\u001b[0m\u001b[0m\n\u001b[1;32m   2647\u001b[0m             \u001b[0;32mexcept\u001b[0m \u001b[0mKeyError\u001b[0m\u001b[0;34m:\u001b[0m\u001b[0;34m\u001b[0m\u001b[0;34m\u001b[0m\u001b[0m\n\u001b[0;32m-> 2648\u001b[0;31m                 \u001b[0;32mreturn\u001b[0m \u001b[0mself\u001b[0m\u001b[0;34m.\u001b[0m\u001b[0m_engine\u001b[0m\u001b[0;34m.\u001b[0m\u001b[0mget_loc\u001b[0m\u001b[0;34m(\u001b[0m\u001b[0mself\u001b[0m\u001b[0;34m.\u001b[0m\u001b[0m_maybe_cast_indexer\u001b[0m\u001b[0;34m(\u001b[0m\u001b[0mkey\u001b[0m\u001b[0;34m)\u001b[0m\u001b[0;34m)\u001b[0m\u001b[0;34m\u001b[0m\u001b[0;34m\u001b[0m\u001b[0m\n\u001b[0m\u001b[1;32m   2649\u001b[0m         \u001b[0mindexer\u001b[0m \u001b[0;34m=\u001b[0m \u001b[0mself\u001b[0m\u001b[0;34m.\u001b[0m\u001b[0mget_indexer\u001b[0m\u001b[0;34m(\u001b[0m\u001b[0;34m[\u001b[0m\u001b[0mkey\u001b[0m\u001b[0;34m]\u001b[0m\u001b[0;34m,\u001b[0m \u001b[0mmethod\u001b[0m\u001b[0;34m=\u001b[0m\u001b[0mmethod\u001b[0m\u001b[0;34m,\u001b[0m \u001b[0mtolerance\u001b[0m\u001b[0;34m=\u001b[0m\u001b[0mtolerance\u001b[0m\u001b[0;34m)\u001b[0m\u001b[0;34m\u001b[0m\u001b[0;34m\u001b[0m\u001b[0m\n\u001b[1;32m   2650\u001b[0m         \u001b[0;32mif\u001b[0m \u001b[0mindexer\u001b[0m\u001b[0;34m.\u001b[0m\u001b[0mndim\u001b[0m \u001b[0;34m>\u001b[0m \u001b[0;36m1\u001b[0m \u001b[0;32mor\u001b[0m \u001b[0mindexer\u001b[0m\u001b[0;34m.\u001b[0m\u001b[0msize\u001b[0m \u001b[0;34m>\u001b[0m \u001b[0;36m1\u001b[0m\u001b[0;34m:\u001b[0m\u001b[0;34m\u001b[0m\u001b[0;34m\u001b[0m\u001b[0m\n",
      "\u001b[0;32mpandas/_libs/index.pyx\u001b[0m in \u001b[0;36mpandas._libs.index.IndexEngine.get_loc\u001b[0;34m()\u001b[0m\n",
      "\u001b[0;32mpandas/_libs/index.pyx\u001b[0m in \u001b[0;36mpandas._libs.index.IndexEngine.get_loc\u001b[0;34m()\u001b[0m\n",
      "\u001b[0;32mpandas/_libs/hashtable_class_helper.pxi\u001b[0m in \u001b[0;36mpandas._libs.hashtable.PyObjectHashTable.get_item\u001b[0;34m()\u001b[0m\n",
      "\u001b[0;32mpandas/_libs/hashtable_class_helper.pxi\u001b[0m in \u001b[0;36mpandas._libs.hashtable.PyObjectHashTable.get_item\u001b[0;34m()\u001b[0m\n",
      "\u001b[0;31mKeyError\u001b[0m: 'Depth'"
     ]
    },
    {
     "data": {
      "image/png": "[encoded data removed]",
      "text/plain": [
       "<Figure size 432x288 with 1 Axes>"
      ]
     },
     "metadata": {
      "needs_background": "light"
     },
     "output_type": "display_data"
    }
   ],
   "source": [
    "from mpl_toolkits.mplot3d import Axes3D\n",
    "import matplotlib.pyplot as plt\n",
    "import pandas as pd\n",
    "import seaborn as sns\n",
    " \n",
    "\n",
    " \n",
    "# Transform it to a long format\n",
    "df2=df.unstack().reset_index()\n",
    "df2.columns=[\"X\",\"Y\",\"Z\"]\n",
    " \n",
    "# And transform the old column name in something numeric\n",
    "df2['X']=pd.Categorical(df['X'])\n",
    "df2['X']=df['X'].cat.codes\n",
    " \n",
    "# Make the plot\n",
    "fig = plt.figure()\n",
    "ax = fig.gca(projection='3d')\n",
    "ax.plot_trisurf(df2['Y'], df['X'], df2['Z'], cmap=plt.cm.viridis, linewidth=0.2)\n",
    "plt.show()\n",
    " \n",
    "# to Add a color bar which maps values to colors.\n",
    "fig = plt.figure()\n",
    "ax = fig.gca(projection='3d')\n",
    "surf=ax.plot_trisurf(df2['Y'], df2['X'], df2['Z'], cmap=plt.cm.viridis, linewidth=0.2)\n",
    "fig.colorbar( surf, shrink=0.5, aspect=5)\n",
    "plt.show()\n",
    " \n",
    "# Rotate it\n",
    "fig = plt.figure()\n",
    "ax = fig.gca(projection='3d')\n",
    "surf=ax.plot_trisurf(df['Y'], df['X'], df['Z'], cmap=plt.cm.viridis, linewidth=0.2)\n",
    "ax.view_init(30, 45)\n",
    "plt.show()\n",
    " \n",
    "# Other palette\n",
    "fig = plt.figure()\n",
    "ax = fig.gca(projection='3d')\n",
    "ax.plot_trisurf(df['Y'], df['X'], df['Z'], cmap=plt.cm.jet, linewidth=0.01)\n",
    "plt.show()"
   ]
  },
  {
   "cell_type": "code",
   "execution_count": 140,
   "metadata": {},
   "outputs": [
    {
     "data": {
      "image/png": "[encoded data removed]",
      "text/plain": [
       "<Figure size 432x288 with 1 Axes>"
      ]
     },
     "metadata": {
      "needs_background": "light"
     },
     "output_type": "display_data"
    },
    {
     "data": {
      "image/png": "[encoded data removed]",
      "text/plain": [
       "<Figure size 432x288 with 2 Axes>"
      ]
     },
     "metadata": {
      "needs_background": "light"
     },
     "output_type": "display_data"
    }
   ],
   "source": [
    " \n",
    "# Make the plot\n",
    "fig = plt.figure()\n",
    "ax = fig.gca(projection='3d')\n",
    "ax.plot_trisurf(df2['Y'], df2['X'], df2['Z'], cmap=plt.cm.viridis, linewidth=0.4)\n",
    "plt.show()\n",
    "\n",
    "fig = plt.figure()\n",
    "ax = fig.gca(projection='3d')\n",
    "surf=ax.plot_trisurf(df2['Y'], df2['X'], df2['Z'], cmap=plt.cm.viridis, linewidth=0.2)\n",
    "fig.colorbar( surf, shrink=0.5, aspect=5)\n",
    "plt.show()"
   ]
  },
  {
   "cell_type": "code",
   "execution_count": null,
   "metadata": {},
   "outputs": [],
   "source": []
  }
 ],
 "metadata": {
  "kernelspec": {
   "display_name": "Python 3",
   "language": "python",
   "name": "python3"
  },
  "language_info": {
   "codemirror_mode": {
    "name": "ipython",
    "version": 3
   },
   "file_extension": ".py",
   "mimetype": "text/x-python",
   "name": "python",
   "nbconvert_exporter": "python",
   "pygments_lexer": "ipython3",
   "version": "3.7.7"
  }
 },
 "nbformat": 4,
 "nbformat_minor": 4
}
